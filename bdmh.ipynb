{
  "cells": [
    {
      "cell_type": "markdown",
      "metadata": {
        "id": "dY1OXFlLj-z7"
      },
      "source": [
        ""
      ]
    },
    {
      "cell_type": "code",
      "execution_count": null,
      "metadata": {
        "id": "J5V9CFVl2yh4"
      },
      "outputs": [],
      "source": [
        "import os\n",
        "import pandas as pd\n",
        "import warnings\n",
        "warnings.filterwarnings('ignore')"
      ]
    },
    {
      "cell_type": "code",
      "execution_count": null,
      "metadata": {
        "id": "FcRDSduI26VS"
      },
      "outputs": [],
      "source": [
        "dpc= pd.read_csv(\"/content/drive/MyDrive/BDMH Ass1/dipeptide_result.csv\")\n",
        "dpc2=pd.read_csv(\"/content/drive/MyDrive/BDMH Ass1/train_dpc2_result.csv\")\n",
        "dpc3=pd.read_csv(\"/content/drive/MyDrive/BDMH Ass1/train_dpc3_result.csv\")\n",
        "dpc4=pd.read_csv(\"/content/drive/MyDrive/BDMH Ass1/train_dpc4_result.csv\")\n",
        "aac=pd.read_csv(\"/content/drive/MyDrive/BDMH Ass1/train_aac.csv\")\n",
        "tr_x=pd.concat([dpc,dpc2,dpc3,aac.drop([\"ID\"],axis=1)],axis=1)\n",
        "tr_y= pd.read_csv(\"/content/drive/MyDrive/BDMH Ass1/train_label.csv\",names=[\"Label\"])\n"
      ]
    },
    {
      "cell_type": "code",
      "execution_count": null,
      "metadata": {
        "id": "0quK0CJVV5Vr"
      },
      "outputs": [],
      "source": [
        "from imblearn.over_sampling import SMOTE,ADASYN\n",
        "from imblearn.under_sampling import RandomUnderSampler\n",
        "from imblearn.combine import SMOTETomek\n",
        "from imblearn.pipeline import Pipeline\n",
        "\n",
        "smenn = SMOTETomek(sampling_strategy=\"not majority\")\n",
        "X, y =smenn.fit_resample(tr_x, tr_y)"
      ]
    },
    {
      "cell_type": "code",
      "execution_count": null,
      "metadata": {
        "id": "iJmpV28HkEYk"
      },
      "outputs": [],
      "source": [
        "from sklearn.model_selection import train_test_split\n",
        "\n",
        "X_train,X_test,Y_train,Y_test = train_test_split(X,y,test_size=0.2,random_state=0,shuffle=True)"
      ]
    },
    {
      "cell_type": "code",
      "execution_count": null,
      "metadata": {
        "colab": {
          "background_save": true
        },
        "id": "YdEVQsbHkqzI",
        "outputId": "5ffacbda-f775-4bf9-90fb-6b099410d883"
      },
      "outputs": [
        {
          "name": "stdout",
          "output_type": "stream",
          "text": [
            "test set accuracy= 0.9189103579347482\n"
          ]
        }
      ],
      "source": [
        "from sklearn.multiclass import OneVsRestClassifier,OneVsOneClassifier\n",
        "from sklearn.ensemble import RandomForestClassifier,ExtraTreesClassifier\n",
        "\n",
        "model= OneVsRestClassifier(ExtraTreesClassifier(n_estimators=700,n_jobs=-1))\n",
        "model.fit(X_train,Y_train)\n",
        "score=model.score(X_test,Y_test)\n",
        "# print(\"train accuracy=\",model.score(X_train,y_train))\n",
        "print(\"test set accuracy=\",score)"
      ]
    },
    {
      "cell_type": "code",
      "execution_count": null,
      "metadata": {
        "colab": {
          "background_save": true,
          "base_uri": "https://localhost:8080/",
          "height": 328
        },
        "id": "KbHF6ARIlxbK",
        "outputId": "b317bf18-caa1-48a9-9b71-d863b77b9fcf"
      },
      "outputs": [
        {
          "data": {
            "text/plain": [
              "OneVsRestClassifier(estimator=ExtraTreesClassifier(n_estimators=700, n_jobs=-1))"
            ]
          },
          "execution_count": null,
          "metadata": {},
          "output_type": "execute_result"
        }
      ],
      "source": [
        "model= OneVsRestClassifier(ExtraTreesClassifier(n_estimators=700,n_jobs=-1))\n",
        "model.fit(X,y)\n"
      ]
    },
    {
      "cell_type": "code",
      "execution_count": null,
      "metadata": {
        "id": "naQNJzz-6gvf"
      },
      "outputs": [],
      "source": [
        "test_dpc=pd.read_csv(\"/content/drive/MyDrive/BDMH Ass1/test_dpc_result.csv\")\n",
        "test_dpc2=pd.read_csv(\"/content/drive/MyDrive/BDMH Ass1/test_dpc2_result.csv\").drop([\"ID\"],axis=1)\n",
        "test_dpc3=pd.read_csv(\"/content/drive/MyDrive/BDMH Ass1/test_dpc3_result.csv\").drop([\"ID\"],axis=1)\n",
        "test_aac=pd.read_csv(\"/content/drive/MyDrive/BDMH Ass1/test_aac_result.csv\").drop([\"ID\"],axis=1)\n",
        "test=pd.concat([test_dpc,test_dpc2,test_dpc3,test_aac],axis=1)\n",
        "\n",
        "# from sklearn.preprocessing import StandardScaler\n",
        "# test_norm = pd.DataFrame(scaler.fit_transform(test))\n",
        "\n",
        "pred=pd.DataFrame(model.predict(test))\n",
        "pred.columns=[\"Lable\"]"
      ]
    },
    {
      "cell_type": "code",
      "execution_count": null,
      "metadata": {
        "colab": {
          "base_uri": "https://localhost:8080/"
        },
        "id": "Uj7Awg_AdyiC",
        "outputId": "c1233489-a57a-4c55-8fb0-c4f4a42f18fc"
      },
      "outputs": [
        {
          "name": "stdout",
          "output_type": "stream",
          "text": [
            "        ID Lable\n",
            "0     1001     E\n",
            "1     1002     C\n",
            "2     1003     C\n",
            "3     1004     C\n",
            "4     1005     C\n",
            "...    ...   ...\n",
            "1611  2612     A\n",
            "1612  2613     A\n",
            "1613  2614     B\n",
            "1614  2615     A\n",
            "1615  2616     A\n",
            "\n",
            "[1616 rows x 2 columns]\n"
          ]
        }
      ],
      "source": [
        "test_id=pd.read_csv(\"/content/drive/MyDrive/BDMH Ass1/test.csv\")[\"ID\"]\n",
        "ans=pd.concat([test_id,pred],axis=1)\n",
        "print(ans)\n",
        "ans.to_csv(\"out.csv\",index=False)\n",
        "!cp out.csv \"/content/drive/MyDrive/BDMH Ass1/\"\n"
      ]
    }
  ],
  "metadata": {
    "colab": {
      "collapsed_sections": [],
      "name": "bdmh.ipynb",
      "provenance": []
    },
    "kernelspec": {
      "display_name": "Python 3",
      "name": "python3"
    },
    "language_info": {
      "name": "python"
    }
  },
  "nbformat": 4,
  "nbformat_minor": 0
}